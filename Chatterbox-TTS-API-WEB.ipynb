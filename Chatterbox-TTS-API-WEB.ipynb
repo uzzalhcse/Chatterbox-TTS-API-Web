{
 "cells": [
  {
   "cell_type": "code",
   "execution_count": null,
   "id": "initial_id",
   "metadata": {
    "collapsed": true
   },
   "outputs": [],
   "source": [
    "%cd /content\n",
    "!git clone https://github.com/uzzalhcse/Chatterbox-TTS-API-Web.git\n",
    "%cd Chatterbox-TTS-API-Web\n",
    "!pip install -r requirements.txt\n",
    "# If you want CUDA support\n",
    "# !pip install torch torchvision torchaudio --index-url https://download.pytorch.org/whl/cu121"
   ]
  },
  {
   "metadata": {},
   "cell_type": "code",
   "outputs": [],
   "execution_count": null,
   "source": [
    "# With ngrok and static domain (permanent URL)\n",
    "!python main.py --use-ngrok --ngrok-token YOUR_TOKEN --static-domain YOUR_DOMAIN.ngrok-free.app"
   ],
   "id": "afe9d88f1ad62ba6"
  }
 ],
 "metadata": {
  "kernelspec": {
   "display_name": "Python 3",
   "language": "python",
   "name": "python3"
  },
  "language_info": {
   "codemirror_mode": {
    "name": "ipython",
    "version": 2
   },
   "file_extension": ".py",
   "mimetype": "text/x-python",
   "name": "python",
   "nbconvert_exporter": "python",
   "pygments_lexer": "ipython2",
   "version": "2.7.6"
  }
 },
 "nbformat": 4,
 "nbformat_minor": 5
}
